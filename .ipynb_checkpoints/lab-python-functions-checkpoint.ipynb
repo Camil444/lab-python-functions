{
 "cells": [
  {
   "cell_type": "markdown",
   "id": "25d7736c-ba17-4aff-b6bb-66eba20fbf4e",
   "metadata": {},
   "source": [
    "# Lab | Functions"
   ]
  },
  {
   "cell_type": "markdown",
   "id": "0c581062-8967-4d93-b06e-62833222f930",
   "metadata": {
    "tags": []
   },
   "source": [
    "## Exercise: Managing Customer Orders with Functions\n",
    "\n",
    "In the previous exercise, you improved the code for managing customer orders by using loops and flow control. Now, let's take it a step further and refactor the code by introducing functions.\n",
    "\n",
    "Follow the steps below to complete the exercise:\n",
    "\n",
    "1. Define a function named `initialize_inventory` that takes `products` as a parameter. Inside the function, implement the code for initializing the inventory dictionary using a loop and user input.\n",
    "\n",
    "2. Define a function named `get_customer_orders` that takes no parameters. Inside the function, implement the code for prompting the user to enter the product names using a loop. The function should return the `customer_orders` set.\n",
    "\n",
    "3. Define a function named `update_inventory` that takes `customer_orders` and `inventory` as parameters. Inside the function, implement the code for updating the inventory dictionary based on the customer orders.\n",
    "\n",
    "4. Define a function named `calculate_order_statistics` that takes `customer_orders` and `products` as parameters. Inside the function, implement the code for calculating the order statistics (total products ordered, and percentage of unique products ordered). The function should return these values.\n",
    "\n",
    "5. Define a function named `print_order_statistics` that takes `order_statistics` as a parameter. Inside the function, implement the code for printing the order statistics.\n",
    "\n",
    "6. Define a function named `print_updated_inventory` that takes `inventory` as a parameter. Inside the function, implement the code for printing the updated inventory.\n",
    "\n",
    "7. Call the functions in the appropriate sequence to execute the program and manage customer orders.\n",
    "\n",
    "Hints for functions:\n",
    "\n",
    "- Consider the input parameters required for each function and their return values.\n",
    "- Utilize function parameters and return values to transfer data between functions.\n",
    "- Test your functions individually to ensure they work correctly.\n",
    "\n",
    "\n"
   ]
  },
  {
   "cell_type": "code",
   "execution_count": 25,
   "id": "50c0f74f-ad96-46ad-9ed9-a616d8ce2bf7",
   "metadata": {
    "tags": []
   },
   "outputs": [],
   "source": [
    "#1\n",
    "\n",
    "products = [\"t-shirt\", \"mug\", \"hat\", \"book\", \"keychain\"]\n",
    "\n",
    "def initialize_inventory(product_list):\n",
    "    inventory = {}\n",
    "    for product in product_list:\n",
    "        quantity = int(input(f\"Quantity of {product} available in the inventory: \"))\n",
    "        inventory[product] = quantity\n",
    "    return inventory"
   ]
  },
  {
   "cell_type": "code",
   "execution_count": 26,
   "id": "af6d6d0e-cddc-47ef-8a54-78e5aab98819",
   "metadata": {
    "tags": []
   },
   "outputs": [],
   "source": [
    "def get_customer_orders():\n",
    "    customer_orders = set()\n",
    "    keep_ordering = input(\"Do you want to order something? (yes/no): \").lower()\n",
    "    \n",
    "    while keep_ordering == \"yes\":\n",
    "        customer_wish = input(f\"Choose your product from the following list: {products} ?\").lower()\n",
    "        \n",
    "        if customer_wish in products:\n",
    "            customer_orders.add(customer_wish)\n",
    "        else:\n",
    "            print(\"Invalid product, please choose from the list.\")\n",
    "        \n",
    "        keep_ordering = input(\"Do you want to add another product? (yes/no): \").lower()\n",
    "    \n",
    "    return customer_orders"
   ]
  },
  {
   "cell_type": "code",
   "execution_count": 27,
   "id": "2beb8eda-4398-4030-96bf-aa3589f90ff4",
   "metadata": {
    "tags": []
   },
   "outputs": [
    {
     "name": "stdout",
     "output_type": "stream",
     "text": [
      "t-shirt: 500 left\n",
      "mug: 428 left\n",
      "hat: 53 left\n",
      "book: 20 left\n",
      "keychain: 150 left\n",
      "1 book(s) removed from inventory.\n",
      "1 hat(s) removed from inventory.\n",
      "1 mug(s) removed from inventory.\n"
     ]
    }
   ],
   "source": [
    "#3 Define a function named update_inventory that takes customer_orders and inventory as parameters. Inside the function, implement the code for updating the inventory dictionary based on the customer orders.\n",
    "\n",
    "def update_inventory():\n",
    "    for product in customer_orders:\n",
    "        if product in inventory:\n",
    "            quantity = 1\n",
    "            \n",
    "            if inventory[product] >= quantity:\n",
    "                inventory[product] -= quantity  \n",
    "                print(f\"{quantity} {product}(s) removed from inventory.\")\n",
    "            else:\n",
    "                print(f\"Not enough stock for {product}. Only {inventory[product]} left.\")\n",
    "        else:\n",
    "            print(f\"{product} not found in inventory.\")\n",
    "for product, quantity in inventory.items():\n",
    "    print(f\"{product}: {quantity} left\")\n",
    "\n",
    "update_inventory()\n",
    "    "
   ]
  },
  {
   "cell_type": "code",
   "execution_count": 29,
   "id": "16a514b7-f52d-4df2-8944-cd7b6e613be8",
   "metadata": {},
   "outputs": [
    {
     "name": "stdin",
     "output_type": "stream",
     "text": [
      "Quantity of t-shirt available in the inventory:  34\n",
      "Quantity of mug available in the inventory:  25\n",
      "Quantity of hat available in the inventory:  45\n",
      "Quantity of book available in the inventory:  32\n",
      "Quantity of keychain available in the inventory:  12\n"
     ]
    },
    {
     "data": {
      "text/plain": [
       "{'t-shirt': 34, 'mug': 25, 'hat': 45, 'book': 32, 'keychain': 12}"
      ]
     },
     "execution_count": 29,
     "metadata": {},
     "output_type": "execute_result"
    }
   ],
   "source": [
    "#4 Define a function named calculate_order_statistics that takes customer_orders and products as parameters. Inside the function, implement the code for calculating the order statistics (total products ordered, and percentage of unique products ordered). The function should return these values.\n",
    "\n",
    "initialize_inventory(products)\n",
    "    "
   ]
  },
  {
   "cell_type": "code",
   "execution_count": 30,
   "id": "8c66608c-069c-49eb-ba2b-3ea46780015a",
   "metadata": {
    "tags": []
   },
   "outputs": [
    {
     "name": "stdin",
     "output_type": "stream",
     "text": [
      "Do you want to order something? (yes/no):  yes\n",
      "Choose your product from the following list: ['t-shirt', 'mug', 'hat', 'book', 'keychain'] ? hat\n",
      "Do you want to add another product? (yes/no):  yes\n",
      "Choose your product from the following list: ['t-shirt', 'mug', 'hat', 'book', 'keychain'] ? hat\n",
      "Do you want to add another product? (yes/no):  tes\n"
     ]
    },
    {
     "data": {
      "text/plain": [
       "{'hat'}"
      ]
     },
     "execution_count": 30,
     "metadata": {},
     "output_type": "execute_result"
    }
   ],
   "source": [
    "get_customer_orders()"
   ]
  },
  {
   "cell_type": "code",
   "execution_count": null,
   "id": "b742c85a-f059-4bdb-9aa6-b320ede453f5",
   "metadata": {},
   "outputs": [],
   "source": []
  },
  {
   "cell_type": "code",
   "execution_count": null,
   "id": "c6cfcf52-63c8-4ab4-9b91-6b2255d90b43",
   "metadata": {},
   "outputs": [],
   "source": []
  }
 ],
 "metadata": {
  "kernelspec": {
   "display_name": "Python 3 (ipykernel)",
   "language": "python",
   "name": "python3"
  },
  "language_info": {
   "codemirror_mode": {
    "name": "ipython",
    "version": 3
   },
   "file_extension": ".py",
   "mimetype": "text/x-python",
   "name": "python",
   "nbconvert_exporter": "python",
   "pygments_lexer": "ipython3",
   "version": "3.11.4"
  }
 },
 "nbformat": 4,
 "nbformat_minor": 5
}
